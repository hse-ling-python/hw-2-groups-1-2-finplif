{
 "cells": [
  {
   "cell_type": "code",
   "execution_count": 1,
   "metadata": {},
   "outputs": [
    {
     "name": "stdout",
     "output_type": "stream",
     "text": [
      "Requirement already satisfied: pycodestyle in /Library/Frameworks/Python.framework/Versions/3.7/lib/python3.7/site-packages (2.5.0)\n",
      "Requirement already satisfied: flake8 in /Library/Frameworks/Python.framework/Versions/3.7/lib/python3.7/site-packages (3.7.8)\n",
      "Requirement already satisfied: pycodestyle_magic in /Library/Frameworks/Python.framework/Versions/3.7/lib/python3.7/site-packages (0.4)\n",
      "Requirement already satisfied: mccabe<0.7.0,>=0.6.0 in /Library/Frameworks/Python.framework/Versions/3.7/lib/python3.7/site-packages (from flake8) (0.6.1)\n",
      "Requirement already satisfied: entrypoints<0.4.0,>=0.3.0 in /Library/Frameworks/Python.framework/Versions/3.7/lib/python3.7/site-packages (from flake8) (0.3)\n",
      "Requirement already satisfied: pyflakes<2.2.0,>=2.1.0 in /Library/Frameworks/Python.framework/Versions/3.7/lib/python3.7/site-packages (from flake8) (2.1.1)\n"
     ]
    }
   ],
   "source": [
    "! pip3 install pycodestyle flake8 pycodestyle_magic"
   ]
  },
  {
   "cell_type": "code",
   "execution_count": 2,
   "metadata": {},
   "outputs": [],
   "source": [
    "%load_ext pycodestyle_magic\n",
    "%pycodestyle_on"
   ]
  },
  {
   "cell_type": "code",
   "execution_count": 3,
   "metadata": {},
   "outputs": [],
   "source": [
    "from pprint import pprint"
   ]
  },
  {
   "cell_type": "markdown",
   "metadata": {},
   "source": [
    "### 2. обработаем книгу с помощью mystem:"
   ]
  },
  {
   "cell_type": "code",
   "execution_count": 4,
   "metadata": {},
   "outputs": [],
   "source": [
    "import json\n",
    "from pymystem3 import Mystem"
   ]
  },
  {
   "cell_type": "code",
   "execution_count": 5,
   "metadata": {},
   "outputs": [],
   "source": [
    "m = Mystem()"
   ]
  },
  {
   "cell_type": "code",
   "execution_count": 6,
   "metadata": {},
   "outputs": [],
   "source": [
    "with open(\"yoga-sna.txt_Ascii.txt\", encoding=\"utf-8\") as f:\n",
    "    text = f.read()"
   ]
  },
  {
   "cell_type": "markdown",
   "metadata": {},
   "source": [
    "#### распарсим и замерим время работы:"
   ]
  },
  {
   "cell_type": "code",
   "execution_count": 7,
   "metadata": {},
   "outputs": [
    {
     "name": "stdout",
     "output_type": "stream",
     "text": [
      "CPU times: user 137 ms, sys: 32.9 ms, total: 170 ms\n",
      "Wall time: 2.79 s\n"
     ]
    }
   ],
   "source": [
    "%%time\n",
    "\n",
    "anad_text = m.analyze(text)"
   ]
  },
  {
   "cell_type": "markdown",
   "metadata": {},
   "source": [
    "#### сохраним результат работы в .json"
   ]
  },
  {
   "cell_type": "code",
   "execution_count": 8,
   "metadata": {},
   "outputs": [],
   "source": [
    "with open('yoga-sna_mystem.json', 'w', encoding='utf-8') as f:\n",
    "    json.dump(anad_text, f, ensure_ascii=False)"
   ]
  },
  {
   "cell_type": "markdown",
   "metadata": {},
   "source": [
    "### 3. обработаем книгу с помощью pymorphy:"
   ]
  },
  {
   "cell_type": "code",
   "execution_count": 9,
   "metadata": {},
   "outputs": [],
   "source": [
    "import nltk\n",
    "from nltk.tokenize import word_tokenize"
   ]
  },
  {
   "cell_type": "markdown",
   "metadata": {},
   "source": [
    "#### токенизируем текст с помощью nltk и замерим время работы:"
   ]
  },
  {
   "cell_type": "code",
   "execution_count": 10,
   "metadata": {},
   "outputs": [],
   "source": [
    "%%time\n",
    "\n",
    "\n",
    "tokens = word_tokenize(text)"
   ]
  },
  {
   "cell_type": "markdown",
   "metadata": {},
   "source": [
    "#### разберем слова с помощью pymorphy и замерим время работы::"
   ]
  },
  {
   "cell_type": "code",
   "execution_count": 11,
   "metadata": {},
   "outputs": [],
   "source": [
    "from pymorphy2 import MorphAnalyzer"
   ]
  },
  {
   "cell_type": "code",
   "execution_count": 12,
   "metadata": {},
   "outputs": [],
   "source": [
    "morph = MorphAnalyzer()"
   ]
  },
  {
   "cell_type": "code",
   "execution_count": 13,
   "metadata": {},
   "outputs": [],
   "source": [
    "%%time\n",
    "\n",
    "pymd_text = []\n",
    "\n",
    "for token in tokens:\n",
    "    pym = morph.parse(token)\n",
    "    pymd_text.append(pym)"
   ]
  },
  {
   "cell_type": "markdown",
   "metadata": {},
   "source": [
    "#### создаем список с леммами и их частью речи:"
   ]
  },
  {
   "cell_type": "code",
   "execution_count": 14,
   "metadata": {},
   "outputs": [],
   "source": [
    "lemmd_list = []\n",
    "for item in pymd_text:\n",
    "    unit = item[0]\n",
    "    lemmd_list.append([unit.normal_form, unit.tag.POS])"
   ]
  },
  {
   "cell_type": "markdown",
   "metadata": {},
   "source": [
    "#### сохраним результат работы в .json"
   ]
  },
  {
   "cell_type": "code",
   "execution_count": 15,
   "metadata": {},
   "outputs": [],
   "source": [
    "with open('yoga-sna_pymorphy.json', 'w', encoding='utf-8') as f:\n",
    "    json.dump(lemmd_list, f, ensure_ascii=False)"
   ]
  },
  {
   "cell_type": "markdown",
   "metadata": {},
   "source": [
    "### 4. ответим на вопросы:"
   ]
  },
  {
   "cell_type": "markdown",
   "metadata": {},
   "source": [
    "#### какую долю слов составляет каждая часть речи?"
   ]
  },
  {
   "cell_type": "code",
   "execution_count": 16,
   "metadata": {},
   "outputs": [],
   "source": [
    "from collections import Counter"
   ]
  },
  {
   "cell_type": "markdown",
   "metadata": {},
   "source": [
    "#### выведим леммы и их часть речи, посчитаем последние"
   ]
  },
  {
   "cell_type": "code",
   "execution_count": 17,
   "metadata": {
    "scrolled": true
   },
   "outputs": [],
   "source": [
    "part = []\n",
    "for i in lemmd_list:\n",
    "    part.append(i[1])\n",
    "total = Counter(part)\n",
    "parts = list(total.items())\n",
    "for i in range(len(parts)):\n",
    "    print(parts[i][0], '-', parts[i][1])"
   ]
  },
  {
   "cell_type": "code",
   "execution_count": 18,
   "metadata": {},
   "outputs": [],
   "source": [
    "summa = len(text)\n",
    "for i in range(len(parts)):\n",
    "    print(parts[i][0], 'составляет ', parts[i][1]/summa, 'долю')"
   ]
  },
  {
   "cell_type": "markdown",
   "metadata": {},
   "source": [
    "#### найдем топ-20 глаголов:"
   ]
  },
  {
   "cell_type": "code",
   "execution_count": 19,
   "metadata": {},
   "outputs": [],
   "source": [
    "verb = []\n",
    "for unit in lemmd_list:\n",
    "    if unit[1] == 'VERB':\n",
    "        verb.append(unit[0])\n",
    "verb_total = Counter(verb)\n",
    "verbs = verb_total.most_common(20)\n",
    "for i in range(len(verbs)):\n",
    "    print(verbs[i][0], '-', verbs[i][1])"
   ]
  },
  {
   "cell_type": "markdown",
   "metadata": {},
   "source": [
    "#### найдем топ-20 наречий:"
   ]
  },
  {
   "cell_type": "code",
   "execution_count": 20,
   "metadata": {},
   "outputs": [],
   "source": [
    "adverb = []\n",
    "for unit in lemmd_list:\n",
    "    if unit[1] == 'ADVB':\n",
    "        adverb.append(unit[0])\n",
    "adverb_total = Counter(adverb)\n",
    "adverbs = adverb_total.most_common(20)\n",
    "for i in range(len(adverbs)):\n",
    "    print(adverbs[i][0], '-', adverbs[i][1])"
   ]
  },
  {
   "cell_type": "markdown",
   "metadata": {},
   "source": [
    "### 5. топ-25 биграмм и триграмм:"
   ]
  },
  {
   "cell_type": "markdown",
   "metadata": {},
   "source": [
    "#### найдем леммы:"
   ]
  },
  {
   "cell_type": "code",
   "execution_count": 21,
   "metadata": {},
   "outputs": [],
   "source": [
    "lemmas = []\n",
    "for i in lemmd_list:\n",
    "    lemmas.append(i[0])"
   ]
  },
  {
   "cell_type": "markdown",
   "metadata": {},
   "source": [
    "#### почистим:"
   ]
  },
  {
   "cell_type": "code",
   "execution_count": 22,
   "metadata": {},
   "outputs": [],
   "source": [
    "punct = \"\"\"!\"#$%&\\'()*+,./:;<=>?@[\\\\]^_-`{|}~«»\"\"\"\n",
    "for char in punct:\n",
    "    for i in lemmas:\n",
    "        if char == i:\n",
    "            lemmas.remove(char)"
   ]
  },
  {
   "cell_type": "markdown",
   "metadata": {},
   "source": [
    "#### найдем топ-25 биграмм:"
   ]
  },
  {
   "cell_type": "code",
   "execution_count": 23,
   "metadata": {},
   "outputs": [],
   "source": [
    "bigrams = nltk.bigrams(lemmas)\n",
    "bis = []\n",
    "for b in bigrams:\n",
    "    bis.append(b)\n",
    "bi_total = Counter(bis)\n",
    "bi = bi_total.most_common(25)\n",
    "for i in range(len(bi)):\n",
    "    print(bi[i][0], '-', bi[i][1])"
   ]
  },
  {
   "cell_type": "markdown",
   "metadata": {},
   "source": [
    "#### найдем топ-25 триграмм:"
   ]
  },
  {
   "cell_type": "code",
   "execution_count": 24,
   "metadata": {},
   "outputs": [],
   "source": [
    "trigrams = nltk.trigrams(lemmas)\n",
    "tris = []\n",
    "for t in trigrams:\n",
    "    tris.append(t)\n",
    "tri_total = Counter(tris)\n",
    "tri = tri_total.most_common(25)\n",
    "for i in range(len(tri)):\n",
    "    print(tri[i][0], '-', tri[i][1])"
   ]
  }
 ],
 "metadata": {
  "kernelspec": {
   "display_name": "Python 3",
   "language": "python",
   "name": "python3"
  },
  "language_info": {
   "codemirror_mode": {
    "name": "ipython",
    "version": 3
   },
   "file_extension": ".py",
   "mimetype": "text/x-python",
   "name": "python",
   "nbconvert_exporter": "python",
   "pygments_lexer": "ipython3",
   "version": "3.7.4"
  }
 },
 "nbformat": 4,
 "nbformat_minor": 2
}
