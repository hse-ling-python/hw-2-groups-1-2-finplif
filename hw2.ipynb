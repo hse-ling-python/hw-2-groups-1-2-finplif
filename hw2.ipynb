{
 "cells": [
  {
   "cell_type": "markdown",
   "metadata": {},
   "source": [
    "## я помогала делать задание Маше Козловой, Лике Джиоевой и Даше Шибасовой"
   ]
  },
  {
   "cell_type": "code",
   "execution_count": 1,
   "metadata": {},
   "outputs": [],
   "source": [
    "from pprint import pprint"
   ]
  },
  {
   "cell_type": "markdown",
   "metadata": {},
   "source": [
    "### 2. обработаем книгу с помощью mystem:"
   ]
  },
  {
   "cell_type": "code",
   "execution_count": 2,
   "metadata": {},
   "outputs": [],
   "source": [
    "import json\n",
    "from pymystem3 import Mystem"
   ]
  },
  {
   "cell_type": "code",
   "execution_count": 3,
   "metadata": {},
   "outputs": [],
   "source": [
    "m = Mystem()"
   ]
  },
  {
   "cell_type": "code",
   "execution_count": 4,
   "metadata": {},
   "outputs": [],
   "source": [
    "with open(\"yoga-sna.txt_Ascii.txt\", encoding=\"utf-8\") as f:\n",
    "    text = f.read()"
   ]
  },
  {
   "cell_type": "markdown",
   "metadata": {},
   "source": [
    "#### распарсим и замерим время работы:"
   ]
  },
  {
   "cell_type": "code",
   "execution_count": 5,
   "metadata": {},
   "outputs": [
    {
     "name": "stdout",
     "output_type": "stream",
     "text": [
      "CPU times: user 141 ms, sys: 35.2 ms, total: 176 ms\n",
      "Wall time: 3.18 s\n"
     ]
    }
   ],
   "source": [
    "%%time\n",
    "\n",
    "anad_text = m.analyze(text)"
   ]
  },
  {
   "cell_type": "markdown",
   "metadata": {},
   "source": [
    "#### сохраним результат работы в .json"
   ]
  },
  {
   "cell_type": "code",
   "execution_count": 6,
   "metadata": {},
   "outputs": [],
   "source": [
    "with open('yoga-sna_mystem.json', 'w', encoding='utf-8') as f:\n",
    "    json.dump(anad_text, f, ensure_ascii=False)"
   ]
  },
  {
   "cell_type": "markdown",
   "metadata": {},
   "source": [
    "### 3. обработаем книгу с помощью pymorphy:"
   ]
  },
  {
   "cell_type": "code",
   "execution_count": 7,
   "metadata": {},
   "outputs": [],
   "source": [
    "import nltk\n",
    "from nltk.tokenize import word_tokenize"
   ]
  },
  {
   "cell_type": "markdown",
   "metadata": {},
   "source": [
    "#### токенизируем текст с помощью nltk и замерим время работы:"
   ]
  },
  {
   "cell_type": "code",
   "execution_count": 8,
   "metadata": {},
   "outputs": [
    {
     "name": "stdout",
     "output_type": "stream",
     "text": [
      "CPU times: user 362 ms, sys: 11.5 ms, total: 373 ms\n",
      "Wall time: 406 ms\n"
     ]
    }
   ],
   "source": [
    "%%time\n",
    "\n",
    "\n",
    "tokens = word_tokenize(text)"
   ]
  },
  {
   "cell_type": "markdown",
   "metadata": {},
   "source": [
    "#### разберем слова с помощью pymorphy и замерим время работы::"
   ]
  },
  {
   "cell_type": "code",
   "execution_count": 9,
   "metadata": {},
   "outputs": [],
   "source": [
    "from pymorphy2 import MorphAnalyzer"
   ]
  },
  {
   "cell_type": "code",
   "execution_count": 10,
   "metadata": {},
   "outputs": [],
   "source": [
    "morph = MorphAnalyzer()"
   ]
  },
  {
   "cell_type": "code",
   "execution_count": 11,
   "metadata": {},
   "outputs": [
    {
     "name": "stdout",
     "output_type": "stream",
     "text": [
      "CPU times: user 8.33 s, sys: 127 ms, total: 8.45 s\n",
      "Wall time: 8.98 s\n"
     ]
    }
   ],
   "source": [
    "%%time\n",
    "\n",
    "pymd_text = []\n",
    "\n",
    "for token in tokens:\n",
    "    pym = morph.parse(token)\n",
    "    pymd_text.append(pym)"
   ]
  },
  {
   "cell_type": "markdown",
   "metadata": {},
   "source": [
    "#### создаем список с леммами и их частью речи:"
   ]
  },
  {
   "cell_type": "code",
   "execution_count": 12,
   "metadata": {},
   "outputs": [],
   "source": [
    "lemmd_list = []\n",
    "for item in pymd_text:\n",
    "    unit = item[0]\n",
    "    lemmd_list.append([unit.normal_form, unit.tag.POS])"
   ]
  },
  {
   "cell_type": "markdown",
   "metadata": {},
   "source": [
    "#### сохраним результат работы в .json"
   ]
  },
  {
   "cell_type": "code",
   "execution_count": 13,
   "metadata": {},
   "outputs": [],
   "source": [
    "with open('yoga-sna_pymorphy.json', 'w', encoding='utf-8') as f:\n",
    "    json.dump(lemmd_list, f, ensure_ascii=False)"
   ]
  },
  {
   "cell_type": "markdown",
   "metadata": {},
   "source": [
    "### 4. ответим на вопросы:"
   ]
  },
  {
   "cell_type": "markdown",
   "metadata": {},
   "source": [
    "#### какую долю слов составляет каждая часть речи?"
   ]
  },
  {
   "cell_type": "code",
   "execution_count": 14,
   "metadata": {},
   "outputs": [],
   "source": [
    "from collections import Counter"
   ]
  },
  {
   "cell_type": "markdown",
   "metadata": {},
   "source": [
    "#### выведим леммы и их часть речи, посчитаем последние"
   ]
  },
  {
   "cell_type": "code",
   "execution_count": 15,
   "metadata": {
    "scrolled": true
   },
   "outputs": [
    {
     "name": "stdout",
     "output_type": "stream",
     "text": [
      "NOUN - 6907\n",
      "ADJS - 245\n",
      "None - 5745\n",
      "CONJ - 2388\n",
      "ADJF - 2924\n",
      "PREP - 2361\n",
      "VERB - 2560\n",
      "PRTF - 231\n",
      "PRCL - 861\n",
      "PRTS - 111\n",
      "NPRO - 1721\n",
      "GRND - 91\n",
      "ADVB - 1236\n",
      "INFN - 711\n",
      "PRED - 74\n",
      "NUMR - 118\n",
      "INTJ - 117\n",
      "COMP - 56\n"
     ]
    }
   ],
   "source": [
    "part = []\n",
    "for i in lemmd_list:\n",
    "    part.append(i[1])\n",
    "total = Counter(part)\n",
    "parts = list(total.items())\n",
    "for i in range(len(parts)):\n",
    "    print(parts[i][0], '-', parts[i][1])"
   ]
  },
  {
   "cell_type": "code",
   "execution_count": 16,
   "metadata": {},
   "outputs": [
    {
     "name": "stdout",
     "output_type": "stream",
     "text": [
      "NOUN составляет  0.04355145844105073 долю\n",
      "ADJS составляет  0.0015448251510145402 долю\n",
      "None составляет  0.036224573439096054 долю\n",
      "CONJ составляет  0.015057316165807029 долю\n",
      "ADJF составляет  0.018437015271700063 долю\n",
      "PREP составляет  0.014887070128756447 долю\n",
      "VERB составляет  0.016141846475907034 долю\n",
      "PRTF составляет  0.0014565494280994237 долю\n",
      "PRCL составляет  0.00542895695927967 долю\n",
      "PRTS составляет  0.0006999003745412815 долю\n",
      "NPRO составляет  0.01085160850977969 долю\n",
      "GRND составляет  0.0005737921989482578 долю\n",
      "ADVB составляет  0.007793485251648864 долю\n",
      "INFN составляет  0.004483145642331992 долю\n",
      "PRED составляет  0.0004666002496941877 долю\n",
      "NUMR составляет  0.0007440382359988398 долю\n",
      "INTJ составляет  0.0007377328272191886 долю\n",
      "COMP составляет  0.0003531028916604663 долю\n"
     ]
    }
   ],
   "source": [
    "summa = len(text)\n",
    "for i in range(len(parts)):\n",
    "    print(parts[i][0], 'составляет ', parts[i][1]/summa, 'долю')"
   ]
  },
  {
   "cell_type": "markdown",
   "metadata": {},
   "source": [
    "#### найдем топ-20 глаголов:"
   ]
  },
  {
   "cell_type": "code",
   "execution_count": 17,
   "metadata": {},
   "outputs": [
    {
     "name": "stdout",
     "output_type": "stream",
     "text": [
      "быть - 333\n",
      "мочь - 210\n",
      "видеть - 41\n",
      "иметь - 40\n",
      "означать - 35\n",
      "существовать - 33\n",
      "сказать - 31\n",
      "являться - 29\n",
      "возникать - 25\n",
      "увидеть - 25\n",
      "знать - 24\n",
      "практиковать - 22\n",
      "подумать - 20\n",
      "становиться - 19\n",
      "появляться - 19\n",
      "говорить - 19\n",
      "начать - 18\n",
      "относиться - 18\n",
      "давать - 18\n",
      "спать - 17\n"
     ]
    }
   ],
   "source": [
    "verb = []\n",
    "for unit in lemmd_list:\n",
    "    if unit[1] == 'VERB':\n",
    "        verb.append(unit[0])\n",
    "verb_total = Counter(verb)\n",
    "verbs = verb_total.most_common(20)\n",
    "for i in range(len(verbs)):\n",
    "    print(verbs[i][0], '-', verbs[i][1])"
   ]
  },
  {
   "cell_type": "markdown",
   "metadata": {},
   "source": [
    "#### найдем топ-20 наречий:"
   ]
  },
  {
   "cell_type": "code",
   "execution_count": 18,
   "metadata": {},
   "outputs": [
    {
     "name": "stdout",
     "output_type": "stream",
     "text": [
      "очень - 97\n",
      "тогда - 42\n",
      "затем - 40\n",
      "где - 32\n",
      "более - 31\n",
      "снова - 29\n",
      "иногда - 25\n",
      "там - 25\n",
      "уже - 24\n",
      "действительно - 24\n",
      "обычно - 22\n",
      "много - 20\n",
      "пока - 20\n",
      "часто - 16\n",
      "несколько - 16\n",
      "здесь - 15\n",
      "потому - 14\n",
      "всего - 14\n",
      "назад - 13\n",
      "ночью - 13\n"
     ]
    }
   ],
   "source": [
    "adverb = []\n",
    "for unit in lemmd_list:\n",
    "    if unit[1] == 'ADVB':\n",
    "        adverb.append(unit[0])\n",
    "adverb_total = Counter(adverb)\n",
    "adverbs = adverb_total.most_common(20)\n",
    "for i in range(len(adverbs)):\n",
    "    print(adverbs[i][0], '-', adverbs[i][1])"
   ]
  },
  {
   "cell_type": "markdown",
   "metadata": {},
   "source": [
    "### 5. топ-25 биграмм и триграмм:"
   ]
  },
  {
   "cell_type": "markdown",
   "metadata": {},
   "source": [
    "#### найдем леммы:"
   ]
  },
  {
   "cell_type": "code",
   "execution_count": 19,
   "metadata": {},
   "outputs": [],
   "source": [
    "lemmas = []\n",
    "for i in lemmd_list:\n",
    "    lemmas.append(i[0])"
   ]
  },
  {
   "cell_type": "markdown",
   "metadata": {},
   "source": [
    "#### почистим:"
   ]
  },
  {
   "cell_type": "code",
   "execution_count": 20,
   "metadata": {},
   "outputs": [],
   "source": [
    "punct = \"\"\"!\"#$%&\\'()*+,./:;<=>?@[\\\\]^_-`{|}~«»\"\"\"\n",
    "for char in punct:\n",
    "    for i in lemmas:\n",
    "        if char == i:\n",
    "            lemmas.remove(char)"
   ]
  },
  {
   "cell_type": "markdown",
   "metadata": {},
   "source": [
    "#### найдем топ-25 биграмм:"
   ]
  },
  {
   "cell_type": "code",
   "execution_count": 21,
   "metadata": {},
   "outputs": [
    {
     "name": "stdout",
     "output_type": "stream",
     "text": [
      "('если', 'вы') - 66\n",
      "('в', 'сновидение') - 50\n",
      "('в', 'сон') - 47\n",
      "('вы', 'мочь') - 42\n",
      "('мочь', 'быть') - 41\n",
      "('в', 'это') - 38\n",
      "('это', 'быть') - 36\n",
      "('в', 'этот') - 35\n",
      "('один', 'из') - 34\n",
      "('у', 'вы') - 34\n",
      "('что', 'вы') - 34\n",
      "('не', 'быть') - 33\n",
      "('тот', 'что') - 32\n",
      "('я', 'быть') - 31\n",
      "('в', 'состояние') - 30\n",
      "('что', 'это') - 30\n",
      "('такой', 'образ') - 29\n",
      "('быть', 'очень') - 27\n",
      "('у', 'я') - 27\n",
      "('связать', 'с') - 26\n",
      "('норба', 'ринпочий') - 24\n",
      "('связанный', 'с') - 24\n",
      "('в', 'время') - 23\n",
      "('он', 'быть') - 23\n",
      "('у', 'мы') - 22\n"
     ]
    }
   ],
   "source": [
    "bigrams = nltk.bigrams(lemmas)\n",
    "bis = []\n",
    "for b in bigrams:\n",
    "    bis.append(b)\n",
    "bi_total = Counter(bis)\n",
    "bi = bi_total.most_common(25)\n",
    "for i in range(len(bi)):\n",
    "    print(bi[i][0], '-', bi[i][1])"
   ]
  },
  {
   "cell_type": "markdown",
   "metadata": {},
   "source": [
    "#### найдем топ-25 триграмм:"
   ]
  },
  {
   "cell_type": "code",
   "execution_count": 22,
   "metadata": {},
   "outputs": [
    {
     "name": "stdout",
     "output_type": "stream",
     "text": [
      "('у', 'я', 'быть') - 18\n",
      "('если', 'у', 'вы') - 14\n",
      "('сновидение', 'связанный', 'с') - 12\n",
      "('в', 'то', 'время') - 12\n",
      "('у', 'вы', 'есть') - 11\n",
      "('видеть', 'в', 'сон') - 11\n",
      "('на', 'следующий', 'день') - 10\n",
      "('практика', 'естественный', 'свет') - 9\n",
      "('в', 'состояние', 'сновидение') - 9\n",
      "('после', 'тот', 'как') - 9\n",
      "('в', 'этот', 'момент') - 9\n",
      "('как', 'если', 'бы') - 9\n",
      "('в', 'сновидение', 'я') - 9\n",
      "('у', 'вы', 'быть') - 8\n",
      "('в', 'это', 'состояние') - 8\n",
      "('в', 'это', 'время') - 8\n",
      "('намхая', 'норба', 'ринпочий') - 7\n",
      "('на', 'самый', 'дело') - 7\n",
      "('в', 'время', 'сон') - 7\n",
      "('состояние', 'естественный', 'свет') - 7\n",
      "('так', 'же', 'как') - 7\n",
      "('до', 'тот', 'пора') - 7\n",
      "('тот', 'пора', 'пока') - 7\n",
      "('если', 'вы', 'видеть') - 7\n",
      "('я', 'подумать', 'что') - 7\n"
     ]
    }
   ],
   "source": [
    "trigrams = nltk.trigrams(lemmas)\n",
    "tris = []\n",
    "for t in trigrams:\n",
    "    tris.append(t)\n",
    "tri_total = Counter(tris)\n",
    "tri = tri_total.most_common(25)\n",
    "for i in range(len(tri)):\n",
    "    print(tri[i][0], '-', tri[i][1])"
   ]
  }
 ],
 "metadata": {
  "kernelspec": {
   "display_name": "Python 3",
   "language": "python",
   "name": "python3"
  },
  "language_info": {
   "codemirror_mode": {
    "name": "ipython",
    "version": 3
   },
   "file_extension": ".py",
   "mimetype": "text/x-python",
   "name": "python",
   "nbconvert_exporter": "python",
   "pygments_lexer": "ipython3",
   "version": "3.7.4"
  }
 },
 "nbformat": 4,
 "nbformat_minor": 2
}
